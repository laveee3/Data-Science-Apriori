{
 "cells": [
  {
   "cell_type": "code",
   "execution_count": 59,
   "id": "548843f3",
   "metadata": {},
   "outputs": [],
   "source": [
    "#importing required datasets\n",
    "import numpy as np\n",
    "import pandas as pd\n",
    "from apyori import apriori"
   ]
  },
  {
   "cell_type": "code",
   "execution_count": 60,
   "id": "74770b22",
   "metadata": {},
   "outputs": [],
   "source": [
    "#loading the dataset\n",
    "store_data = pd.read_excel('Sold.xlsx')"
   ]
  },
  {
   "cell_type": "code",
   "execution_count": 61,
   "id": "352e324a",
   "metadata": {},
   "outputs": [
    {
     "data": {
      "text/html": [
       "<div>\n",
       "<style scoped>\n",
       "    .dataframe tbody tr th:only-of-type {\n",
       "        vertical-align: middle;\n",
       "    }\n",
       "\n",
       "    .dataframe tbody tr th {\n",
       "        vertical-align: top;\n",
       "    }\n",
       "\n",
       "    .dataframe thead th {\n",
       "        text-align: right;\n",
       "    }\n",
       "</style>\n",
       "<table border=\"1\" class=\"dataframe\">\n",
       "  <thead>\n",
       "    <tr style=\"text-align: right;\">\n",
       "      <th></th>\n",
       "      <th>Invoice</th>\n",
       "      <th>Wine</th>\n",
       "      <th>Chips</th>\n",
       "      <th>Bread</th>\n",
       "      <th>Butter</th>\n",
       "      <th>Milk</th>\n",
       "      <th>Apple</th>\n",
       "      <th>Cost</th>\n",
       "    </tr>\n",
       "  </thead>\n",
       "  <tbody>\n",
       "    <tr>\n",
       "      <th>0</th>\n",
       "      <td>101</td>\n",
       "      <td>Wine</td>\n",
       "      <td>NaN</td>\n",
       "      <td>Bread</td>\n",
       "      <td>Butter</td>\n",
       "      <td>Milk</td>\n",
       "      <td>NaN</td>\n",
       "      <td>33</td>\n",
       "    </tr>\n",
       "    <tr>\n",
       "      <th>1</th>\n",
       "      <td>102</td>\n",
       "      <td>NaN</td>\n",
       "      <td>NaN</td>\n",
       "      <td>Bread</td>\n",
       "      <td>Butter</td>\n",
       "      <td>Milk</td>\n",
       "      <td>NaN</td>\n",
       "      <td>22</td>\n",
       "    </tr>\n",
       "    <tr>\n",
       "      <th>2</th>\n",
       "      <td>103</td>\n",
       "      <td>NaN</td>\n",
       "      <td>Chips</td>\n",
       "      <td>NaN</td>\n",
       "      <td>NaN</td>\n",
       "      <td>NaN</td>\n",
       "      <td>Apple</td>\n",
       "      <td>12</td>\n",
       "    </tr>\n",
       "    <tr>\n",
       "      <th>3</th>\n",
       "      <td>104</td>\n",
       "      <td>Wine</td>\n",
       "      <td>Chips</td>\n",
       "      <td>Bread</td>\n",
       "      <td>Butter</td>\n",
       "      <td>Milk</td>\n",
       "      <td>Apple</td>\n",
       "      <td>11</td>\n",
       "    </tr>\n",
       "    <tr>\n",
       "      <th>4</th>\n",
       "      <td>105</td>\n",
       "      <td>Wine</td>\n",
       "      <td>Chips</td>\n",
       "      <td>NaN</td>\n",
       "      <td>NaN</td>\n",
       "      <td>Milk</td>\n",
       "      <td>NaN</td>\n",
       "      <td>16</td>\n",
       "    </tr>\n",
       "    <tr>\n",
       "      <th>5</th>\n",
       "      <td>106</td>\n",
       "      <td>Wine</td>\n",
       "      <td>Chips</td>\n",
       "      <td>Bread</td>\n",
       "      <td>Butter</td>\n",
       "      <td>NaN</td>\n",
       "      <td>Apple</td>\n",
       "      <td>23</td>\n",
       "    </tr>\n",
       "    <tr>\n",
       "      <th>6</th>\n",
       "      <td>107</td>\n",
       "      <td>Wine</td>\n",
       "      <td>Chips</td>\n",
       "      <td>NaN</td>\n",
       "      <td>NaN</td>\n",
       "      <td>Milk</td>\n",
       "      <td>NaN</td>\n",
       "      <td>23</td>\n",
       "    </tr>\n",
       "    <tr>\n",
       "      <th>7</th>\n",
       "      <td>108</td>\n",
       "      <td>Wine</td>\n",
       "      <td>NaN</td>\n",
       "      <td>Bread</td>\n",
       "      <td>NaN</td>\n",
       "      <td>NaN</td>\n",
       "      <td>Apple</td>\n",
       "      <td>13</td>\n",
       "    </tr>\n",
       "    <tr>\n",
       "      <th>8</th>\n",
       "      <td>109</td>\n",
       "      <td>Wine</td>\n",
       "      <td>NaN</td>\n",
       "      <td>Bread</td>\n",
       "      <td>Butter</td>\n",
       "      <td>Milk</td>\n",
       "      <td>NaN</td>\n",
       "      <td>32</td>\n",
       "    </tr>\n",
       "    <tr>\n",
       "      <th>9</th>\n",
       "      <td>110</td>\n",
       "      <td>NaN</td>\n",
       "      <td>Chips</td>\n",
       "      <td>Bread</td>\n",
       "      <td>Butter</td>\n",
       "      <td>NaN</td>\n",
       "      <td>Apple</td>\n",
       "      <td>22</td>\n",
       "    </tr>\n",
       "    <tr>\n",
       "      <th>10</th>\n",
       "      <td>111</td>\n",
       "      <td>Wine</td>\n",
       "      <td>NaN</td>\n",
       "      <td>NaN</td>\n",
       "      <td>Butter</td>\n",
       "      <td>Milk</td>\n",
       "      <td>Apple</td>\n",
       "      <td>22</td>\n",
       "    </tr>\n",
       "    <tr>\n",
       "      <th>11</th>\n",
       "      <td>112</td>\n",
       "      <td>Wine</td>\n",
       "      <td>NaN</td>\n",
       "      <td>NaN</td>\n",
       "      <td>Butter</td>\n",
       "      <td>Milk</td>\n",
       "      <td>NaN</td>\n",
       "      <td>27</td>\n",
       "    </tr>\n",
       "    <tr>\n",
       "      <th>12</th>\n",
       "      <td>113</td>\n",
       "      <td>Wine</td>\n",
       "      <td>Chips</td>\n",
       "      <td>Bread</td>\n",
       "      <td>NaN</td>\n",
       "      <td>Milk</td>\n",
       "      <td>Apple</td>\n",
       "      <td>66</td>\n",
       "    </tr>\n",
       "    <tr>\n",
       "      <th>13</th>\n",
       "      <td>114</td>\n",
       "      <td>Wine</td>\n",
       "      <td>NaN</td>\n",
       "      <td>Bread</td>\n",
       "      <td>Butter</td>\n",
       "      <td>Milk</td>\n",
       "      <td>Apple</td>\n",
       "      <td>22</td>\n",
       "    </tr>\n",
       "    <tr>\n",
       "      <th>14</th>\n",
       "      <td>115</td>\n",
       "      <td>Wine</td>\n",
       "      <td>Chips</td>\n",
       "      <td>Bread</td>\n",
       "      <td>Butter</td>\n",
       "      <td>Milk</td>\n",
       "      <td>Apple</td>\n",
       "      <td>22</td>\n",
       "    </tr>\n",
       "    <tr>\n",
       "      <th>15</th>\n",
       "      <td>116</td>\n",
       "      <td>NaN</td>\n",
       "      <td>Chips</td>\n",
       "      <td>Bread</td>\n",
       "      <td>Butter</td>\n",
       "      <td>Milk</td>\n",
       "      <td>Apple</td>\n",
       "      <td>33</td>\n",
       "    </tr>\n",
       "    <tr>\n",
       "      <th>16</th>\n",
       "      <td>117</td>\n",
       "      <td>NaN</td>\n",
       "      <td>Chips</td>\n",
       "      <td>Bread</td>\n",
       "      <td>Butter</td>\n",
       "      <td>Milk</td>\n",
       "      <td>Apple</td>\n",
       "      <td>44</td>\n",
       "    </tr>\n",
       "    <tr>\n",
       "      <th>17</th>\n",
       "      <td>118</td>\n",
       "      <td>Wine</td>\n",
       "      <td>Chips</td>\n",
       "      <td>NaN</td>\n",
       "      <td>Butter</td>\n",
       "      <td>Milk</td>\n",
       "      <td>Apple</td>\n",
       "      <td>26</td>\n",
       "    </tr>\n",
       "    <tr>\n",
       "      <th>18</th>\n",
       "      <td>119</td>\n",
       "      <td>Wine</td>\n",
       "      <td>NaN</td>\n",
       "      <td>Bread</td>\n",
       "      <td>Butter</td>\n",
       "      <td>Milk</td>\n",
       "      <td>Apple</td>\n",
       "      <td>35</td>\n",
       "    </tr>\n",
       "    <tr>\n",
       "      <th>19</th>\n",
       "      <td>120</td>\n",
       "      <td>Wine</td>\n",
       "      <td>Chips</td>\n",
       "      <td>Bread</td>\n",
       "      <td>NaN</td>\n",
       "      <td>Milk</td>\n",
       "      <td>Apple</td>\n",
       "      <td>50</td>\n",
       "    </tr>\n",
       "    <tr>\n",
       "      <th>20</th>\n",
       "      <td>121</td>\n",
       "      <td>NaN</td>\n",
       "      <td>Chips</td>\n",
       "      <td>Bread</td>\n",
       "      <td>NaN</td>\n",
       "      <td>NaN</td>\n",
       "      <td>NaN</td>\n",
       "      <td>9</td>\n",
       "    </tr>\n",
       "  </tbody>\n",
       "</table>\n",
       "</div>"
      ],
      "text/plain": [
       "    Invoice  Wine  Chips  Bread  Butter  Milk  Apple  Cost\n",
       "0       101  Wine    NaN  Bread  Butter  Milk    NaN    33\n",
       "1       102   NaN    NaN  Bread  Butter  Milk    NaN    22\n",
       "2       103   NaN  Chips    NaN     NaN   NaN  Apple    12\n",
       "3       104  Wine  Chips  Bread  Butter  Milk  Apple    11\n",
       "4       105  Wine  Chips    NaN     NaN  Milk    NaN    16\n",
       "5       106  Wine  Chips  Bread  Butter   NaN  Apple    23\n",
       "6       107  Wine  Chips    NaN     NaN  Milk    NaN    23\n",
       "7       108  Wine    NaN  Bread     NaN   NaN  Apple    13\n",
       "8       109  Wine    NaN  Bread  Butter  Milk    NaN    32\n",
       "9       110   NaN  Chips  Bread  Butter   NaN  Apple    22\n",
       "10      111  Wine    NaN    NaN  Butter  Milk  Apple    22\n",
       "11      112  Wine    NaN    NaN  Butter  Milk    NaN    27\n",
       "12      113  Wine  Chips  Bread     NaN  Milk  Apple    66\n",
       "13      114  Wine    NaN  Bread  Butter  Milk  Apple    22\n",
       "14      115  Wine  Chips  Bread  Butter  Milk  Apple    22\n",
       "15      116   NaN  Chips  Bread  Butter  Milk  Apple    33\n",
       "16      117   NaN  Chips  Bread  Butter  Milk  Apple    44\n",
       "17      118  Wine  Chips    NaN  Butter  Milk  Apple    26\n",
       "18      119  Wine    NaN  Bread  Butter  Milk  Apple    35\n",
       "19      120  Wine  Chips  Bread     NaN  Milk  Apple    50\n",
       "20      121   NaN  Chips  Bread     NaN   NaN    NaN     9"
      ]
     },
     "execution_count": 61,
     "metadata": {},
     "output_type": "execute_result"
    }
   ],
   "source": [
    "store_data"
   ]
  },
  {
   "cell_type": "code",
   "execution_count": 62,
   "id": "3f8b8a09",
   "metadata": {},
   "outputs": [
    {
     "data": {
      "text/plain": [
       "(21, 8)"
      ]
     },
     "execution_count": 62,
     "metadata": {},
     "output_type": "execute_result"
    }
   ],
   "source": [
    "store_data.shape"
   ]
  },
  {
   "cell_type": "code",
   "execution_count": 67,
   "id": "e40d2e18",
   "metadata": {},
   "outputs": [],
   "source": [
    "#converting pandas into list of list\n",
    "records = []\n",
    "for i in range(0,21):\n",
    "    records.append([str(store_data.values[i,j]) for j in range(0,8)])"
   ]
  },
  {
   "cell_type": "code",
   "execution_count": 68,
   "id": "0cc91966",
   "metadata": {},
   "outputs": [
    {
     "data": {
      "text/plain": [
       "[['101', 'Wine', 'nan', 'Bread', 'Butter', 'Milk', 'nan', '33'],\n",
       " ['102', 'nan', 'nan', 'Bread', 'Butter', 'Milk', 'nan', '22'],\n",
       " ['103', 'nan', 'Chips', 'nan', 'nan', 'nan', 'Apple', '12'],\n",
       " ['104', 'Wine', 'Chips', 'Bread', 'Butter', 'Milk', 'Apple', '11'],\n",
       " ['105', 'Wine', 'Chips', 'nan', 'nan', 'Milk', 'nan', '16'],\n",
       " ['106', 'Wine', 'Chips', 'Bread', 'Butter', 'nan', 'Apple', '23'],\n",
       " ['107', 'Wine', 'Chips', 'nan', 'nan', 'Milk', 'nan', '23'],\n",
       " ['108', 'Wine', 'nan', 'Bread', 'nan', 'nan', 'Apple', '13'],\n",
       " ['109', 'Wine', 'nan', 'Bread', 'Butter', 'Milk', 'nan', '32'],\n",
       " ['110', 'nan', 'Chips', 'Bread', 'Butter', 'nan', 'Apple', '22'],\n",
       " ['111', 'Wine', 'nan', 'nan', 'Butter', 'Milk', 'Apple', '22'],\n",
       " ['112', 'Wine', 'nan', 'nan', 'Butter', 'Milk', 'nan', '27'],\n",
       " ['113', 'Wine', 'Chips', 'Bread', 'nan', 'Milk', 'Apple', '66'],\n",
       " ['114', 'Wine', 'nan', 'Bread', 'Butter', 'Milk', 'Apple', '22'],\n",
       " ['115', 'Wine', 'Chips', 'Bread', 'Butter', 'Milk', 'Apple', '22'],\n",
       " ['116', 'nan', 'Chips', 'Bread', 'Butter', 'Milk', 'Apple', '33'],\n",
       " ['117', 'nan', 'Chips', 'Bread', 'Butter', 'Milk', 'Apple', '44'],\n",
       " ['118', 'Wine', 'Chips', 'nan', 'Butter', 'Milk', 'Apple', '26'],\n",
       " ['119', 'Wine', 'nan', 'Bread', 'Butter', 'Milk', 'Apple', '35'],\n",
       " ['120', 'Wine', 'Chips', 'Bread', 'nan', 'Milk', 'Apple', '50'],\n",
       " ['121', 'nan', 'Chips', 'Bread', 'nan', 'nan', 'nan', '9']]"
      ]
     },
     "execution_count": 68,
     "metadata": {},
     "output_type": "execute_result"
    }
   ],
   "source": [
    "records"
   ]
  },
  {
   "cell_type": "code",
   "execution_count": 69,
   "id": "d8d0213f",
   "metadata": {},
   "outputs": [
    {
     "name": "stdout",
     "output_type": "stream",
     "text": [
      "94\n"
     ]
    }
   ],
   "source": [
    "association_rules = apriori(records, min_support=0.05, min_confidence=0.07,min_lift=1.2,min_length=2)\n",
    "association_results = list(association_rules)\n",
    "print(len(association_results))"
   ]
  },
  {
   "cell_type": "code",
   "execution_count": 11,
   "id": "139b0b43",
   "metadata": {},
   "outputs": [],
   "source": [
    "association_results = list(association_rules)"
   ]
  },
  {
   "cell_type": "code",
   "execution_count": 12,
   "id": "744a81db",
   "metadata": {},
   "outputs": [
    {
     "name": "stdout",
     "output_type": "stream",
     "text": [
      "29\n"
     ]
    }
   ],
   "source": [
    "print(len(association_results))"
   ]
  },
  {
   "cell_type": "code",
   "execution_count": 70,
   "id": "c129c6c2",
   "metadata": {},
   "outputs": [
    {
     "name": "stdout",
     "output_type": "stream",
     "text": [
      "1\n"
     ]
    }
   ],
   "source": [
    "association_rules = apriori(records, min_support=0.4, min_confidence=0.7,min_lift=1.2,min_length=2)\n",
    "association_results = list(association_rules)\n",
    "print(len(association_results))"
   ]
  },
  {
   "cell_type": "code",
   "execution_count": 71,
   "id": "6bac8b40",
   "metadata": {},
   "outputs": [
    {
     "data": {
      "text/plain": [
       "[RelationRecord(items=frozenset({'Bread', 'Milk', 'Butter'}), support=0.42857142857142855, ordered_statistics=[OrderedStatistic(items_base=frozenset({'Bread', 'Milk'}), items_add=frozenset({'Butter'}), confidence=0.8181818181818181, lift=1.2272727272727273)])]"
      ]
     },
     "execution_count": 71,
     "metadata": {},
     "output_type": "execute_result"
    }
   ],
   "source": [
    "association_results"
   ]
  },
  {
   "cell_type": "code",
   "execution_count": null,
   "id": "06be7c4f",
   "metadata": {},
   "outputs": [],
   "source": []
  }
 ],
 "metadata": {
  "kernelspec": {
   "display_name": "Python 3 (ipykernel)",
   "language": "python",
   "name": "python3"
  },
  "language_info": {
   "codemirror_mode": {
    "name": "ipython",
    "version": 3
   },
   "file_extension": ".py",
   "mimetype": "text/x-python",
   "name": "python",
   "nbconvert_exporter": "python",
   "pygments_lexer": "ipython3",
   "version": "3.9.7"
  }
 },
 "nbformat": 4,
 "nbformat_minor": 5
}
